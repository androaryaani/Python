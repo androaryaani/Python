{
 "cells": [
  {
   "cell_type": "code",
   "execution_count": 1,
   "id": "45bea7da-db11-4414-af8f-6f66cc26d11f",
   "metadata": {},
   "outputs": [],
   "source": [
    "from twilio.rest import Client"
   ]
  },
  {
   "cell_type": "code",
   "execution_count": null,
   "id": "6666111d-983c-431d-a51d-5168e3ee1b3f",
   "metadata": {},
   "outputs": [],
   "source": [
    "account_sid = \"sid_id\"\n",
    "auth_token = \"token_id\""
   ]
  },
  {
   "cell_type": "code",
   "execution_count": null,
   "id": "1b2d9ad4-3633-4f76-826f-2ac25eeb8db5",
   "metadata": {},
   "outputs": [],
   "source": [
    "client = Client(account_sid, auth_token)\n",
    "call = client.calls.create(\n",
    "    twiml='<Response><Say>Hello androariyaani here </Say></Response>',\n",
    "    to='+91',     \n",
    "    from_='your twillio phn number'   \n",
    ")"
   ]
  },
  {
   "cell_type": "code",
   "execution_count": 4,
   "id": "eaff63ac-a1a1-426e-8bff-bfc27bcda31c",
   "metadata": {},
   "outputs": [
    {
     "name": "stdout",
     "output_type": "stream",
     "text": [
      "Call SID: CA2b473dad3321fed25884268bba2c39d0\n"
     ]
    }
   ],
   "source": [
    "print(\"Call SID:\", call.sid)"
   ]
  },
  {
   "cell_type": "code",
   "execution_count": null,
   "id": "e00f84f3-4100-4588-b676-d59fe92f7b84",
   "metadata": {},
   "outputs": [],
   "source": []
  }
 ],
 "metadata": {
  "kernelspec": {
   "display_name": "Python 3 (ipykernel)",
   "language": "python",
   "name": "python3"
  },
  "language_info": {
   "codemirror_mode": {
    "name": "ipython",
    "version": 3
   },
   "file_extension": ".py",
   "mimetype": "text/x-python",
   "name": "python",
   "nbconvert_exporter": "python",
   "pygments_lexer": "ipython3",
   "version": "3.12.7"
  }
 },
 "nbformat": 4,
 "nbformat_minor": 5
}
