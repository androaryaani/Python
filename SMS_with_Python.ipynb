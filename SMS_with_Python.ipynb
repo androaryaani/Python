{
 "cells": [
  {
   "cell_type": "code",
   "execution_count": 6,
   "id": "111b4950-25ea-4b34-8850-a98f452aeeb0",
   "metadata": {},
   "outputs": [],
   "source": [
    "from twilio.rest import Client"
   ]
  },
  {
   "cell_type": "code",
   "execution_count": null,
   "id": "ca49d780-6faa-47ff-8086-7fcbba7e36fe",
   "metadata": {},
   "outputs": [],
   "source": [
    "account_sid = \"sid-id\"\n",
    "auth_token = \"token-id\"\n",
    "client = Client(account_sid, auth_token)\n",
    "message = client.messages.create(\n",
    "    body=\"Hello buddy Andro Ariyaani HERE .\",\n",
    "    from_='twilloe number', \n",
    "    to='+91your number'\n",
    ")"
   ]
  },
  {
   "cell_type": "code",
   "execution_count": null,
   "id": "05f80b9e-639c-450e-9263-6a40ecb2e7a0",
   "metadata": {},
   "outputs": [],
   "source": [
    "print(f\"Message sent! SID: {message.sid}\")"
   ]
  },
  {
   "cell_type": "code",
   "execution_count": null,
   "id": "af139c5c-0bdc-4b1b-9fad-bb63aa4bb932",
   "metadata": {},
   "outputs": [],
   "source": []
  }
 ],
 "metadata": {
  "kernelspec": {
   "display_name": "Python 3 (ipykernel)",
   "language": "python",
   "name": "python3"
  },
  "language_info": {
   "codemirror_mode": {
    "name": "ipython",
    "version": 3
   },
   "file_extension": ".py",
   "mimetype": "text/x-python",
   "name": "python",
   "nbconvert_exporter": "python",
   "pygments_lexer": "ipython3",
   "version": "3.12.7"
  }
 },
 "nbformat": 4,
 "nbformat_minor": 5
}
