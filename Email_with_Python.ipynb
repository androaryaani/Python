{
 "cells": [
  {
   "cell_type": "code",
   "execution_count": null,
   "id": "1ce206b8-f623-4dbd-b69d-69df42b3dc31",
   "metadata": {},
   "outputs": [],
   "source": [
    "from sendgrid import SendGridAPIClient\n",
    "from sendgrid.helpers.mail import Mail\n",
    "\n",
    "def send_email(from_email, to_email, subject, html_content, api_key):\n",
    "    message = Mail(\n",
    "        from_email=\"email\",\n",
    "        to_emails=\"abc@gmail.com\",\n",
    "        subject=\"you can wrt a subjct\" ,\n",
    "        html_content=\"<h3>Hi bro 😎</h3><p>This is a clean version of the function.</p>\",\n",
    "        api_key=\"api-keys\"\n",
    "    )\n",
    "\n",
    "    sg = SendGridAPIClient(api_key)\n",
    "    response = sg.send(message)\n",
    "\n",
    "    print(\"✅ Email sent successfully!\")\n",
    "    print(\"Status Code:\", response.status_code)\n",
    "    print(\"Response Body:\", response.body)\n",
    "    print(\"Response Headers:\", response.headers)\n",
    "    return response\n"
   ]
  },
  {
   "cell_type": "code",
   "execution_count": null,
   "id": "a9c5df15-5ffd-4f51-97aa-54273748b409",
   "metadata": {},
   "outputs": [],
   "source": []
  }
 ],
 "metadata": {
  "kernelspec": {
   "display_name": "Python 3 (ipykernel)",
   "language": "python",
   "name": "python3"
  },
  "language_info": {
   "codemirror_mode": {
    "name": "ipython",
    "version": 3
   },
   "file_extension": ".py",
   "mimetype": "text/x-python",
   "name": "python",
   "nbconvert_exporter": "python",
   "pygments_lexer": "ipython3",
   "version": "3.12.7"
  }
 },
 "nbformat": 4,
 "nbformat_minor": 5
}
