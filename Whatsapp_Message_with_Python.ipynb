{
 "cells": [
  {
   "cell_type": "code",
   "execution_count": 9,
   "id": "16cde9f6-93a6-4010-834c-e6ccbd234589",
   "metadata": {},
   "outputs": [],
   "source": [
    "import pywhatkit\n",
    "import pyautogui\n",
    "import time"
   ]
  },
  {
   "cell_type": "code",
   "execution_count": 10,
   "id": "f4a6acec-f603-49a3-9417-7df1da46acc5",
   "metadata": {},
   "outputs": [],
   "source": [
    "def send_whatsapp_message():\n",
    "    number = input(\"(with +91): \")\n",
    "    message = input(\"Message: \")\n",
    "    hour = int(input(\"Hour: \"))\n",
    "    minute = int(input(\"Minute: \"))\n",
    "\n",
    "    print(\"Waiting...\")\n",
    "\n",
    "    pywhatkit.sendwhatmsg(number, message, hour, minute, wait_time=10)\n",
    "\n",
    "    print(\"WhatsApp Web should open now...\")\n",
    "    time.sleep(12)\n",
    "    pyautogui.press(\"enter\")  \n",
    "\n",
    "    print(\"Message sent!\")"
   ]
  },
  {
   "cell_type": "code",
   "execution_count": 11,
   "id": "fc87dc44-533d-4efa-9ad3-b46a28447174",
   "metadata": {},
   "outputs": [
    {
     "name": "stdin",
     "output_type": "stream",
     "text": [
      "(with +91):  +919414966535\n",
      "Message:  hi bro\n",
      "Hour:  18\n",
      "Minute:  16\n"
     ]
    },
    {
     "name": "stdout",
     "output_type": "stream",
     "text": [
      "Waiting...\n",
      "In 81 Seconds WhatsApp will open and after 10 Seconds Message will be Delivered!\n",
      "WhatsApp Web should open now...\n",
      "Message sent!\n"
     ]
    }
   ],
   "source": [
    "send_whatsapp_message()"
   ]
  },
  {
   "cell_type": "code",
   "execution_count": null,
   "id": "21cae15c-5e33-466f-94fa-c8a3ebdc4905",
   "metadata": {},
   "outputs": [],
   "source": []
  }
 ],
 "metadata": {
  "kernelspec": {
   "display_name": "Python 3 (ipykernel)",
   "language": "python",
   "name": "python3"
  },
  "language_info": {
   "codemirror_mode": {
    "name": "ipython",
    "version": 3
   },
   "file_extension": ".py",
   "mimetype": "text/x-python",
   "name": "python",
   "nbconvert_exporter": "python",
   "pygments_lexer": "ipython3",
   "version": "3.12.7"
  }
 },
 "nbformat": 4,
 "nbformat_minor": 5
}
