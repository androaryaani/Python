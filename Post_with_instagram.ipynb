{
 "cells": [
  {
   "cell_type": "code",
   "execution_count": null,
   "id": "f3486561-34c3-4a60-a34d-3ea6977eebc7",
   "metadata": {},
   "outputs": [],
   "source": [
    "from instagrapi import Client\n",
    "username = \"your_username\"\n",
    "password = \"your_password\"\n",
    "\n",
    "cl = Client()\n",
    "cl.login(username, password)\n",
    "\n",
    "image_path = r\"Image_path\"\n",
    "\n",
    "caption = \"Here_a_Caption\"\n",
    "\n",
    "cl.photo_upload(path=image_path, caption=caption)\n",
    "\n",
    "print(\"Image posted successfully!\")"
   ]
  },
  {
   "cell_type": "code",
   "execution_count": null,
   "id": "80c2fdc6-707a-4515-b3b4-f6e679f52426",
   "metadata": {},
   "outputs": [],
   "source": []
  }
 ],
 "metadata": {
  "kernelspec": {
   "display_name": "Python 3 (ipykernel)",
   "language": "python",
   "name": "python3"
  },
  "language_info": {
   "codemirror_mode": {
    "name": "ipython",
    "version": 3
   },
   "file_extension": ".py",
   "mimetype": "text/x-python",
   "name": "python",
   "nbconvert_exporter": "python",
   "pygments_lexer": "ipython3",
   "version": "3.12.7"
  }
 },
 "nbformat": 4,
 "nbformat_minor": 5
}
